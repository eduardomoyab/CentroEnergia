{
 "cells": [
  {
   "cell_type": "code",
   "execution_count": 1,
   "metadata": {},
   "outputs": [],
   "source": [
    "import pandas as pd"
   ]
  },
  {
   "cell_type": "code",
   "execution_count": 2,
   "metadata": {},
   "outputs": [],
   "source": [
    "nacional = pd.read_csv('bne_balance_nacional.csv')\n",
    "regional = pd.read_excel('bne_balance_regional.xlsx')"
   ]
  },
  {
   "cell_type": "code",
   "execution_count": 3,
   "metadata": {},
   "outputs": [],
   "source": [
    "# Diccionario de coincidencias de nombres invertido para transformar regional_total\n",
    "coincidencias = {\n",
    "    'coque metalurgico': 'coque mineral',\n",
    "    'gas de alto horno': 'gas de altos hornos',\n",
    "    'gas licuado de petroleo': 'gas licuado',\n",
    "    'derivados industriales de petroleo': 'd.i. de petroleo',\n",
    "    'energia hidroelectrica': 'energia hidrica',\n",
    "    'gas de coque': 'gas coque'\n",
    "}\n",
    "sectores = {\n",
    "    'Comercial, público y residencial': 'Sector Cmrcl., Púb. Y Residencial',\n",
    "     'Energía': 'Energético: Consumo Propio',\n",
    "     'Industria y Minería': 'Industrial y Minero',\n",
    "     'Transformación': 'Centros de transfornación',\n",
    "     }"
   ]
  },
  {
   "cell_type": "code",
   "execution_count": 4,
   "metadata": {},
   "outputs": [],
   "source": [
    "# Función para transformar los nombres en regional_total según el diccionario de coincidencias\n",
    "def transformar_nombres(row,x):\n",
    "    combustible = row['combustible']\n",
    "    if combustible in x:\n",
    "        return x[combustible]\n",
    "    return combustible\n",
    "\n"
   ]
  },
  {
   "cell_type": "code",
   "execution_count": 21,
   "metadata": {},
   "outputs": [],
   "source": [
    "import unicodedata\n",
    "class Comparar_Balances():\n",
    "  #Cargar las variables al modelo\n",
    "    def __init__(self, nacional, regional,coincidencias):\n",
    "        self.nacional = nacional\n",
    "        self.regional = regional\n",
    "        self.coincidencias = coincidencias\n",
    "\n",
    "    def transformar_nombres(self, row):\n",
    "        combustible = row['combustible']\n",
    "        if combustible in self.coincidencias:\n",
    "            return self.coincidencias[combustible]\n",
    "        return combustible\n",
    "    \n",
    "    def transformar_sector(self, row):\n",
    "        sector = row['Sector']\n",
    "        if sector in self.sectores:\n",
    "            return self.sectores[sector]\n",
    "        return sector\n",
    "\n",
    "\n",
    "    def comparar_balance(self):\n",
    "        nacional_total = self.nacional.query('item == \"CONSUMO FINAL\" and categoria.str.startswith(\"Sector\")')[['anio', 'combustible', 'tcal']]\n",
    "        nacional_total.columns = ['año','combustible','tcal_nacional']\n",
    "        nacional_total = nacional_total.groupby(['año','combustible']).sum().reset_index()\n",
    "\n",
    "        regional_2 = self.regional.query('actividad != \"Transformación\"')[['anio','energetico','tcal']]\n",
    "        regional_total = regional_2.groupby(['anio','energetico']).sum().reset_index()\n",
    "        regional_total.columns = ['año','combustible','tcal_regional']\n",
    "\n",
    "        # Transformar a minúsculas\n",
    "        nacional_total['combustible_clean'] = nacional_total['combustible'].str.lower()\n",
    "\n",
    "        # Quitar tildes\n",
    "        nacional_total['combustible_clean'] = nacional_total['combustible_clean'].apply(lambda x: unicodedata.normalize('NFKD', x).encode('ASCII', 'ignore').decode('utf-8'))\n",
    "\n",
    "            # Transformar a minúsculas\n",
    "        regional_total['combustible_clean'] = regional_total['combustible'].str.lower()\n",
    "\n",
    "        # Quitar tildes\n",
    "        regional_total['combustible_clean'] = regional_total['combustible_clean'].apply(lambda x: unicodedata.normalize('NFKD', x).encode('ASCII', 'ignore').decode('utf-8'))\n",
    "        \n",
    "        nacional_total.drop(columns='combustible',inplace=True)\n",
    "        regional_total.drop(columns='combustible',inplace=True)\n",
    "        nacional_total = nacional_total[['año','combustible_clean','tcal_nacional']]\n",
    "        regional_total = regional_total[['año','combustible_clean','tcal_regional']]\n",
    "\n",
    "        nacional_total.columns = ['año','combustible','tcal_nacional']\n",
    "        regional_total.columns = ['año','combustible','tcal_regional']\n",
    "        \n",
    "        # Aplicar la función a la columna 'combustible' del DataFrame regional_total\n",
    "        regional_total['combustible'] = regional_total.apply(self.transformar_nombres, axis=1)\n",
    "\n",
    "        df_final = pd.merge(nacional_total,regional_total,how='inner',on=['año','combustible'])\n",
    "        df_final.fillna(0,inplace=True)\n",
    "\n",
    "        df_final2 = df_final[['año','tcal_nacional','tcal_regional']].groupby('año').sum().reset_index()\n",
    "\n",
    "        df_final['diferencia tcal'] = df_final['tcal_nacional'] - df_final['tcal_regional']\n",
    "        df_final2['diferencia tcal'] = df_final2['tcal_nacional'] - df_final2['tcal_regional']\n",
    "\n",
    "        return df_final, df_final2\n",
    "    "
   ]
  },
  {
   "cell_type": "code",
   "execution_count": 23,
   "metadata": {},
   "outputs": [],
   "source": [
    "balance = Comparar_Balances(nacional=nacional,regional=regional,coincidencias=coincidencias)\n",
    "df_comb, df_total = balance.comparar_balance()"
   ]
  },
  {
   "cell_type": "code",
   "execution_count": 24,
   "metadata": {},
   "outputs": [
    {
     "data": {
      "text/html": [
       "<div>\n",
       "<style scoped>\n",
       "    .dataframe tbody tr th:only-of-type {\n",
       "        vertical-align: middle;\n",
       "    }\n",
       "\n",
       "    .dataframe tbody tr th {\n",
       "        vertical-align: top;\n",
       "    }\n",
       "\n",
       "    .dataframe thead th {\n",
       "        text-align: right;\n",
       "    }\n",
       "</style>\n",
       "<table border=\"1\" class=\"dataframe\">\n",
       "  <thead>\n",
       "    <tr style=\"text-align: right;\">\n",
       "      <th></th>\n",
       "      <th>año</th>\n",
       "      <th>combustible</th>\n",
       "      <th>tcal_nacional</th>\n",
       "      <th>tcal_regional</th>\n",
       "      <th>diferencia tcal</th>\n",
       "    </tr>\n",
       "  </thead>\n",
       "  <tbody>\n",
       "    <tr>\n",
       "      <th>0</th>\n",
       "      <td>2014</td>\n",
       "      <td>alquitran</td>\n",
       "      <td>155.099000</td>\n",
       "      <td>155.099000</td>\n",
       "      <td>0.000000e+00</td>\n",
       "    </tr>\n",
       "    <tr>\n",
       "      <th>1</th>\n",
       "      <td>2014</td>\n",
       "      <td>biogas</td>\n",
       "      <td>19.752756</td>\n",
       "      <td>19.752756</td>\n",
       "      <td>0.000000e+00</td>\n",
       "    </tr>\n",
       "    <tr>\n",
       "      <th>2</th>\n",
       "      <td>2014</td>\n",
       "      <td>biomasa</td>\n",
       "      <td>40175.348260</td>\n",
       "      <td>40175.348263</td>\n",
       "      <td>-2.900604e-06</td>\n",
       "    </tr>\n",
       "    <tr>\n",
       "      <th>3</th>\n",
       "      <td>2014</td>\n",
       "      <td>carbon</td>\n",
       "      <td>2353.299390</td>\n",
       "      <td>2353.299390</td>\n",
       "      <td>-4.547474e-13</td>\n",
       "    </tr>\n",
       "    <tr>\n",
       "      <th>4</th>\n",
       "      <td>2014</td>\n",
       "      <td>coque mineral</td>\n",
       "      <td>75.662426</td>\n",
       "      <td>75.662426</td>\n",
       "      <td>0.000000e+00</td>\n",
       "    </tr>\n",
       "    <tr>\n",
       "      <th>...</th>\n",
       "      <td>...</td>\n",
       "      <td>...</td>\n",
       "      <td>...</td>\n",
       "      <td>...</td>\n",
       "      <td>...</td>\n",
       "    </tr>\n",
       "    <tr>\n",
       "      <th>157</th>\n",
       "      <td>2021</td>\n",
       "      <td>kerosene</td>\n",
       "      <td>1606.899033</td>\n",
       "      <td>1606.899033</td>\n",
       "      <td>3.554640e-07</td>\n",
       "    </tr>\n",
       "    <tr>\n",
       "      <th>158</th>\n",
       "      <td>2021</td>\n",
       "      <td>kerosene de aviacion</td>\n",
       "      <td>9183.604686</td>\n",
       "      <td>9183.604686</td>\n",
       "      <td>-1.682820e-07</td>\n",
       "    </tr>\n",
       "    <tr>\n",
       "      <th>159</th>\n",
       "      <td>2021</td>\n",
       "      <td>nafta</td>\n",
       "      <td>99.486744</td>\n",
       "      <td>449.061824</td>\n",
       "      <td>-3.495751e+02</td>\n",
       "    </tr>\n",
       "    <tr>\n",
       "      <th>160</th>\n",
       "      <td>2021</td>\n",
       "      <td>petroleo combustible</td>\n",
       "      <td>6678.854834</td>\n",
       "      <td>6678.854834</td>\n",
       "      <td>3.559999e-07</td>\n",
       "    </tr>\n",
       "    <tr>\n",
       "      <th>161</th>\n",
       "      <td>2021</td>\n",
       "      <td>petroleo diesel</td>\n",
       "      <td>88964.721554</td>\n",
       "      <td>88964.721551</td>\n",
       "      <td>2.315617e-06</td>\n",
       "    </tr>\n",
       "  </tbody>\n",
       "</table>\n",
       "<p>162 rows × 5 columns</p>\n",
       "</div>"
      ],
      "text/plain": [
       "      año           combustible  tcal_nacional  tcal_regional  diferencia tcal\n",
       "0    2014             alquitran     155.099000     155.099000     0.000000e+00\n",
       "1    2014                biogas      19.752756      19.752756     0.000000e+00\n",
       "2    2014               biomasa   40175.348260   40175.348263    -2.900604e-06\n",
       "3    2014                carbon    2353.299390    2353.299390    -4.547474e-13\n",
       "4    2014         coque mineral      75.662426      75.662426     0.000000e+00\n",
       "..    ...                   ...            ...            ...              ...\n",
       "157  2021              kerosene    1606.899033    1606.899033     3.554640e-07\n",
       "158  2021  kerosene de aviacion    9183.604686    9183.604686    -1.682820e-07\n",
       "159  2021                 nafta      99.486744     449.061824    -3.495751e+02\n",
       "160  2021  petroleo combustible    6678.854834    6678.854834     3.559999e-07\n",
       "161  2021       petroleo diesel   88964.721554   88964.721551     2.315617e-06\n",
       "\n",
       "[162 rows x 5 columns]"
      ]
     },
     "execution_count": 24,
     "metadata": {},
     "output_type": "execute_result"
    }
   ],
   "source": [
    "df_comb"
   ]
  },
  {
   "cell_type": "code",
   "execution_count": 25,
   "metadata": {},
   "outputs": [
    {
     "data": {
      "text/html": [
       "<div>\n",
       "<style scoped>\n",
       "    .dataframe tbody tr th:only-of-type {\n",
       "        vertical-align: middle;\n",
       "    }\n",
       "\n",
       "    .dataframe tbody tr th {\n",
       "        vertical-align: top;\n",
       "    }\n",
       "\n",
       "    .dataframe thead th {\n",
       "        text-align: right;\n",
       "    }\n",
       "</style>\n",
       "<table border=\"1\" class=\"dataframe\">\n",
       "  <thead>\n",
       "    <tr style=\"text-align: right;\">\n",
       "      <th></th>\n",
       "      <th>año</th>\n",
       "      <th>tcal_nacional</th>\n",
       "      <th>tcal_regional</th>\n",
       "      <th>diferencia tcal</th>\n",
       "    </tr>\n",
       "  </thead>\n",
       "  <tbody>\n",
       "    <tr>\n",
       "      <th>0</th>\n",
       "      <td>2014</td>\n",
       "      <td>272092.958716</td>\n",
       "      <td>274382.187057</td>\n",
       "      <td>-2289.228340</td>\n",
       "    </tr>\n",
       "    <tr>\n",
       "      <th>1</th>\n",
       "      <td>2015</td>\n",
       "      <td>275160.288641</td>\n",
       "      <td>272331.103660</td>\n",
       "      <td>2829.184981</td>\n",
       "    </tr>\n",
       "    <tr>\n",
       "      <th>2</th>\n",
       "      <td>2016</td>\n",
       "      <td>280241.216082</td>\n",
       "      <td>282300.555705</td>\n",
       "      <td>-2059.339624</td>\n",
       "    </tr>\n",
       "    <tr>\n",
       "      <th>3</th>\n",
       "      <td>2017</td>\n",
       "      <td>287224.059165</td>\n",
       "      <td>288901.295666</td>\n",
       "      <td>-1677.236501</td>\n",
       "    </tr>\n",
       "    <tr>\n",
       "      <th>4</th>\n",
       "      <td>2018</td>\n",
       "      <td>298734.538452</td>\n",
       "      <td>300825.415841</td>\n",
       "      <td>-2090.877389</td>\n",
       "    </tr>\n",
       "    <tr>\n",
       "      <th>5</th>\n",
       "      <td>2019</td>\n",
       "      <td>299574.725421</td>\n",
       "      <td>301597.217537</td>\n",
       "      <td>-2022.492116</td>\n",
       "    </tr>\n",
       "    <tr>\n",
       "      <th>6</th>\n",
       "      <td>2020</td>\n",
       "      <td>281469.273988</td>\n",
       "      <td>283235.413395</td>\n",
       "      <td>-1766.139407</td>\n",
       "    </tr>\n",
       "    <tr>\n",
       "      <th>7</th>\n",
       "      <td>2021</td>\n",
       "      <td>291460.966634</td>\n",
       "      <td>293142.624797</td>\n",
       "      <td>-1681.658163</td>\n",
       "    </tr>\n",
       "  </tbody>\n",
       "</table>\n",
       "</div>"
      ],
      "text/plain": [
       "    año  tcal_nacional  tcal_regional  diferencia tcal\n",
       "0  2014  272092.958716  274382.187057     -2289.228340\n",
       "1  2015  275160.288641  272331.103660      2829.184981\n",
       "2  2016  280241.216082  282300.555705     -2059.339624\n",
       "3  2017  287224.059165  288901.295666     -1677.236501\n",
       "4  2018  298734.538452  300825.415841     -2090.877389\n",
       "5  2019  299574.725421  301597.217537     -2022.492116\n",
       "6  2020  281469.273988  283235.413395     -1766.139407\n",
       "7  2021  291460.966634  293142.624797     -1681.658163"
      ]
     },
     "execution_count": 25,
     "metadata": {},
     "output_type": "execute_result"
    }
   ],
   "source": [
    "df_total"
   ]
  },
  {
   "cell_type": "code",
   "execution_count": 27,
   "metadata": {},
   "outputs": [],
   "source": [
    "df_comb.to_csv('Balance Nacional vs Regional combustibles.csv',index=False,encoding='utf-8-sig')"
   ]
  },
  {
   "cell_type": "code",
   "execution_count": 28,
   "metadata": {},
   "outputs": [],
   "source": [
    "df_total.to_csv('Balance Nacional vs Regional total.csv',index=False,encoding='utf-8-sig')"
   ]
  },
  {
   "cell_type": "code",
   "execution_count": 13,
   "metadata": {},
   "outputs": [
    {
     "ename": "NameError",
     "evalue": "name 'nacional_total' is not defined",
     "output_type": "error",
     "traceback": [
      "\u001b[1;31m---------------------------------------------------------------------------\u001b[0m",
      "\u001b[1;31mNameError\u001b[0m                                 Traceback (most recent call last)",
      "Cell \u001b[1;32mIn[13], line 1\u001b[0m\n\u001b[1;32m----> 1\u001b[0m comb_nac \u001b[39m=\u001b[39m nacional_total\u001b[39m.\u001b[39mcombustible\u001b[39m.\u001b[39munique()\n\u001b[0;32m      2\u001b[0m \u001b[39mlen\u001b[39m(comb_nac)\n",
      "\u001b[1;31mNameError\u001b[0m: name 'nacional_total' is not defined"
     ]
    }
   ],
   "source": [
    "comb_nac = nacional_total.combustible.unique()\n",
    "len(comb_nac)"
   ]
  },
  {
   "cell_type": "code",
   "execution_count": 130,
   "metadata": {},
   "outputs": [
    {
     "data": {
      "text/plain": [
       "28"
      ]
     },
     "execution_count": 130,
     "metadata": {},
     "output_type": "execute_result"
    }
   ],
   "source": [
    "comb_reg = regional_total.combustible.unique()\n",
    "len(comb_reg)"
   ]
  },
  {
   "cell_type": "code",
   "execution_count": 131,
   "metadata": {},
   "outputs": [
    {
     "name": "stdout",
     "output_type": "stream",
     "text": [
      "{'gasolina de motor', 'biomasa', 'petroleo diesel', 'gas natural', 'energia solar', 'energia hidrica', 'gas coque', 'nafta', 'carbon', 'coque de petroleo', 'alquitran', 'biogas', 'gas de refineria', 'gasolina de aviacion', 'petroleo combustible', 'geotermia', 'energia eolica', 'kerosene', 'coque mineral', 'gas corriente', 'gas de altos hornos', 'gas licuado', 'petroleo crudo', 'd.i. de petroleo', 'kerosene de aviacion', 'electricidad'}\n",
      "26\n"
     ]
    }
   ],
   "source": [
    "# Utilizando la operación de intersección con el operador \"&\"\n",
    "coincidencias = set(comb_nac) & set(comb_reg)\n",
    "\n",
    "# Otra opción es utilizando el método intersection de set\n",
    "# coincidencias = set(lista1).intersection(lista2)\n",
    "\n",
    "# El resultado será una lista con los valores en común\n",
    "print(coincidencias)  # Salida: {3, 4, 5}\n",
    "\n",
    "# Para saber cuántos valores en común hay, puedes usar la función len\n",
    "cantidad_coincidencias = len(coincidencias)\n",
    "print(cantidad_coincidencias)  # Salida: 3"
   ]
  },
  {
   "cell_type": "code",
   "execution_count": null,
   "metadata": {},
   "outputs": [],
   "source": []
  },
  {
   "cell_type": "code",
   "execution_count": 132,
   "metadata": {},
   "outputs": [
    {
     "name": "stdout",
     "output_type": "stream",
     "text": [
      "{'metanol'}\n",
      "\n",
      "{'licor negro', 'petcoke'}\n"
     ]
    }
   ],
   "source": [
    "# Utilizando la operación de diferencia con el operador \"-\"\n",
    "diferencias_lista1 = set(comb_nac) - set(comb_reg)\n",
    "diferencias_lista2 = set(comb_reg) - set(comb_nac)\n",
    "\n",
    "# Otra opción es utilizando el método difference de set\n",
    "# diferencias_lista1 = set(lista1).difference(lista2)\n",
    "# diferencias_lista2 = set(lista2).difference(lista1)\n",
    "\n",
    "# Los resultados serán listas con los elementos que no coinciden en cada una\n",
    "print(diferencias_lista1)  # Salida: {1, 2}\n",
    "print()\n",
    "print(diferencias_lista2)  # Salida: {6, 7}"
   ]
  },
  {
   "cell_type": "markdown",
   "metadata": {},
   "source": []
  }
 ],
 "metadata": {
  "kernelspec": {
   "display_name": "Python 3",
   "language": "python",
   "name": "python3"
  },
  "language_info": {
   "codemirror_mode": {
    "name": "ipython",
    "version": 3
   },
   "file_extension": ".py",
   "mimetype": "text/x-python",
   "name": "python",
   "nbconvert_exporter": "python",
   "pygments_lexer": "ipython3",
   "version": "3.11.4"
  },
  "orig_nbformat": 4
 },
 "nbformat": 4,
 "nbformat_minor": 2
}
